{
  "nbformat": 4,
  "nbformat_minor": 0,
  "metadata": {
    "colab": {
      "name": "Hop_sequence.ipynb",
      "provenance": [],
      "collapsed_sections": [],
      "authorship_tag": "ABX9TyPPNr8LJo6JMueUogyakmmn",
      "include_colab_link": true
    },
    "kernelspec": {
      "name": "python3",
      "display_name": "Python 3"
    }
  },
  "cells": [
    {
      "cell_type": "markdown",
      "metadata": {
        "id": "view-in-github",
        "colab_type": "text"
      },
      "source": [
        "<a href=\"https://colab.research.google.com/github/Liza23/Star-Hopping/blob/liza_branch/Hop_sequence.ipynb\" target=\"_parent\"><img src=\"https://colab.research.google.com/assets/colab-badge.svg\" alt=\"Open In Colab\"/></a>"
      ]
    },
    {
      "cell_type": "code",
      "metadata": {
        "id": "LHAIYVTUXuF7",
        "colab_type": "code",
        "colab": {}
      },
      "source": [
        "import math\n",
        "import pandas as pd"
      ],
      "execution_count": 2,
      "outputs": []
    },
    {
      "cell_type": "code",
      "metadata": {
        "id": "Be-PkexqRg90",
        "colab_type": "code",
        "colab": {}
      },
      "source": [
        "class Point():\n",
        "  def __init__(self, x, y):\n",
        "    self.x = x\n",
        "    self.y = y"
      ],
      "execution_count": 10,
      "outputs": []
    },
    {
      "cell_type": "code",
      "metadata": {
        "id": "WLEsorarY8yz",
        "colab_type": "code",
        "colab": {}
      },
      "source": [
        "def distance(a,b):\n",
        "  x_term = int(a.x) - int(b.x)\n",
        "  y_term = int(a.y) - int(b.y)\n",
        "  return math.sqrt((x_term * x_term) + (y_term * y_term))"
      ],
      "execution_count": 11,
      "outputs": []
    },
    {
      "cell_type": "code",
      "metadata": {
        "id": "KRhCRDqIcERF",
        "colab_type": "code",
        "colab": {}
      },
      "source": [
        "# this function will return the value of the nearest \n",
        "# star to the clicks from the selected stars.\n",
        "\n",
        "def min_distance(click, star_catalogue):\n",
        "  star_name = None\n",
        "\n",
        "  stars_point = []\n",
        "  # star_point is list of Point objects with ra as \n",
        "  # the x and dec as the y values of the star.\n",
        "  for i in range(len(star_catalogue)):\n",
        "    x = star_catalogue['ra'][i]\n",
        "    y = star_catalogue['dec'][i]\n",
        "    p = Point(x,y)\n",
        "    stars_point.append(p)\n",
        "  \n",
        "  try:\n",
        "    min_val = distance(click, stars_point[0])\n",
        "    min_star = stars_point[0]\n",
        "  \n",
        "    count = 0\n",
        "  # to keep a track of stars which are at a same value from our click\n",
        "  \n",
        "    for i in range(len(stars_point)):\n",
        "      if min_val >= distance(click, stars_point[i]):\n",
        "        min_val = distance(click, stars_point[i])\n",
        "        min_star = stars_point[i]\n",
        "        star_name = star_catalogue['star'][i]\n",
        "        count += 1\n",
        "    \n",
        "    assert(count == 1)\n",
        "\n",
        "    return min_star, star_name\n",
        "  \n",
        "  except AssertionError:\n",
        "    print(\"Two or more stars found nearby! Try again\")\n",
        "    temp = Point(None, None)\n",
        "    return temp, None\n",
        "    \n",
        "  except IndexError:\n",
        "    print(\"No star found in the region you click! Try again\")\n",
        "    temp = Point(None, None)\n",
        "    return temp, None"
      ],
      "execution_count": 79,
      "outputs": []
    },
    {
      "cell_type": "code",
      "metadata": {
        "id": "OHMB8u70gx9b",
        "colab_type": "code",
        "colab": {}
      },
      "source": [
        "# this value is used to avoid returning of hops even \n",
        "# when there is no nearby star (e.g. editor clicking\n",
        "# somewhere near the borders).\n",
        "limit_range = 50\n",
        "\n",
        "# max_stars is the limit put to remove unnessecory \n",
        "# faint stars from our star list\n",
        "max_stars = 50\n",
        "\n",
        "# limiting_brightness is the minimum brightness below \n",
        "# which we consider a star to be faint\n",
        "limiting_brightness = 0.1"
      ],
      "execution_count": 13,
      "outputs": []
    },
    {
      "cell_type": "code",
      "metadata": {
        "id": "pagiRSTRdBuY",
        "colab_type": "code",
        "colab": {}
      },
      "source": [
        "# this function returns a list of stars that lie \n",
        "# within the sqaure formed with the click as center\n",
        "\n",
        "def list_stars(click, data):\n",
        "\n",
        "  stars_catalogue = pd.DataFrame(columns = ['star','ra','dec','brightness'])\n",
        "\n",
        "  l_x_limit = int(click.x) - limit_range\n",
        "  r_x_limit = int(click.x) + limit_range\n",
        "  l_y_limit = int(click.y) - limit_range\n",
        "  r_y_limit = int(click.y) + limit_range\n",
        "  \n",
        "  for i in range(len(data)):    \n",
        "    if (data['ra'][i] > l_x_limit and data['ra'][i] < r_x_limit) and (data['dec'][i] > l_y_limit and data['dec'][i] < r_y_limit):\n",
        "      stars_catalogue = stars_catalogue.append({'star': data['star'][i], 'ra': data['ra'][i], 'dec': data['dec'][i], 'brightness': data['brightness'][i]}, ignore_index=True)\n",
        "\n",
        "  if len(stars_catalogue) >= max_stars:\n",
        "     stars_catalogue = stars_catalogue[stars_catalogue['brightness'] > limiting_brightness]\n",
        "\n",
        "  return stars_catalogue"
      ],
      "execution_count": 14,
      "outputs": []
    },
    {
      "cell_type": "code",
      "metadata": {
        "id": "e1zESCICdeRS",
        "colab_type": "code",
        "colab": {}
      },
      "source": [
        "# Driver code with temp data\n",
        "data = {'star': ['a', 'b', 'c', 'd'], 'ra': [100, 200, 300, 400], 'dec': [10, 20, 30, 40], 'brightness': [0.1, 0.2, 0.3, 0.4]}\n",
        "df = pd.DataFrame (data, columns = ['star','ra','dec','brightness'])"
      ],
      "execution_count": 15,
      "outputs": []
    },
    {
      "cell_type": "code",
      "metadata": {
        "id": "o4ccNyBNd6eX",
        "colab_type": "code",
        "colab": {
          "base_uri": "https://localhost:8080/",
          "height": 166
        },
        "outputId": "cc4af9d2-66bd-4b89-eb0b-dad2d20ce0c0"
      },
      "source": [
        "df"
      ],
      "execution_count": 16,
      "outputs": [
        {
          "output_type": "execute_result",
          "data": {
            "text/html": [
              "<div>\n",
              "<style scoped>\n",
              "    .dataframe tbody tr th:only-of-type {\n",
              "        vertical-align: middle;\n",
              "    }\n",
              "\n",
              "    .dataframe tbody tr th {\n",
              "        vertical-align: top;\n",
              "    }\n",
              "\n",
              "    .dataframe thead th {\n",
              "        text-align: right;\n",
              "    }\n",
              "</style>\n",
              "<table border=\"1\" class=\"dataframe\">\n",
              "  <thead>\n",
              "    <tr style=\"text-align: right;\">\n",
              "      <th></th>\n",
              "      <th>star</th>\n",
              "      <th>ra</th>\n",
              "      <th>dec</th>\n",
              "      <th>brightness</th>\n",
              "    </tr>\n",
              "  </thead>\n",
              "  <tbody>\n",
              "    <tr>\n",
              "      <th>0</th>\n",
              "      <td>a</td>\n",
              "      <td>100</td>\n",
              "      <td>10</td>\n",
              "      <td>0.1</td>\n",
              "    </tr>\n",
              "    <tr>\n",
              "      <th>1</th>\n",
              "      <td>b</td>\n",
              "      <td>200</td>\n",
              "      <td>20</td>\n",
              "      <td>0.2</td>\n",
              "    </tr>\n",
              "    <tr>\n",
              "      <th>2</th>\n",
              "      <td>c</td>\n",
              "      <td>300</td>\n",
              "      <td>30</td>\n",
              "      <td>0.3</td>\n",
              "    </tr>\n",
              "    <tr>\n",
              "      <th>3</th>\n",
              "      <td>d</td>\n",
              "      <td>400</td>\n",
              "      <td>40</td>\n",
              "      <td>0.4</td>\n",
              "    </tr>\n",
              "  </tbody>\n",
              "</table>\n",
              "</div>"
            ],
            "text/plain": [
              "  star   ra  dec  brightness\n",
              "0    a  100   10         0.1\n",
              "1    b  200   20         0.2\n",
              "2    c  300   30         0.3\n",
              "3    d  400   40         0.4"
            ]
          },
          "metadata": {
            "tags": []
          },
          "execution_count": 16
        }
      ]
    },
    {
      "cell_type": "code",
      "metadata": {
        "id": "yktK0NejL0aY",
        "colab_type": "code",
        "colab": {
          "base_uri": "https://localhost:8080/",
          "height": 33
        },
        "outputId": "ad14989e-18ac-4a45-b28e-f1a47f3e1eb7"
      },
      "source": [
        "10 in df['dec']"
      ],
      "execution_count": 17,
      "outputs": [
        {
          "output_type": "execute_result",
          "data": {
            "text/plain": [
              "False"
            ]
          },
          "metadata": {
            "tags": []
          },
          "execution_count": 17
        }
      ]
    },
    {
      "cell_type": "code",
      "metadata": {
        "id": "SDgJWK2uXOqi",
        "colab_type": "code",
        "colab": {}
      },
      "source": [
        "global hops"
      ],
      "execution_count": 81,
      "outputs": []
    },
    {
      "cell_type": "code",
      "metadata": {
        "id": "mTLmeK2KgaR2",
        "colab_type": "code",
        "colab": {}
      },
      "source": [
        "# this function stores the series of hops\n",
        "# hops is a list of stars as Point object\n",
        "def save_hops(click, star_catalogue, hops):\n",
        "  star_point, star_name = min_distance(click, star_catalogue)\n",
        "  hops = {'star': star_name, 'ra': star_point.x, 'dec': star_point.y}\n",
        "  return hops"
      ],
      "execution_count": 82,
      "outputs": []
    },
    {
      "cell_type": "code",
      "metadata": {
        "id": "SjZ8ssAmkEmP",
        "colab_type": "code",
        "colab": {}
      },
      "source": [
        "def main():\n",
        "  hops = pd.DataFrame(columns = ['star','ra','dec'])\n",
        "  flag = True\n",
        "  while(flag):\n",
        "    x = input()\n",
        "    y = input()\n",
        "    flag = input()\n",
        "    click = Point(x, y)\n",
        "\n",
        "    stars_catalogue = list_stars(click, df)\n",
        "    hopped_star = save_hops(click, stars_catalogue, hops)\n",
        "    hops = hops.append(hopped_star, ignore_index = True)\n",
        "\n",
        "  return hops"
      ],
      "execution_count": 83,
      "outputs": []
    },
    {
      "cell_type": "code",
      "metadata": {
        "id": "IoKmWN3C_c4_",
        "colab_type": "code",
        "colab": {
          "base_uri": "https://localhost:8080/",
          "height": 385
        },
        "outputId": "13774c93-a46b-4637-bd2d-0cfd922606f4"
      },
      "source": [
        "print(main())"
      ],
      "execution_count": 80,
      "outputs": [
        {
          "output_type": "stream",
          "text": [
            "200\n",
            "20\n",
            "1\n",
            "100\n",
            "10\n",
            "1\n",
            "0\n",
            "0\n",
            "1\n",
            "No star found in the region you click! Try again\n",
            "225\n",
            "50\n",
            "1\n",
            "300\n",
            "10\n",
            "\n",
            "   star    ra   dec\n",
            "0     b   200    20\n",
            "1     a   100    10\n",
            "2  None  None  None\n",
            "3     b   200    20\n",
            "4     c   300    30\n"
          ],
          "name": "stdout"
        }
      ]
    },
    {
      "cell_type": "code",
      "metadata": {
        "id": "wyRW7p9KSTRb",
        "colab_type": "code",
        "colab": {}
      },
      "source": [
        ""
      ],
      "execution_count": null,
      "outputs": []
    }
  ]
}
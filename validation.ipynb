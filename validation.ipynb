{
 "cells": [
  {
   "cell_type": "markdown",
   "metadata": {},
   "source": [
    "# Object validation for obeservation"
   ]
  },
  {
   "cell_type": "code",
   "execution_count": 39,
   "metadata": {},
   "outputs": [],
   "source": [
    "import numpy as np\n",
    "import pandas as pd\n",
    "import re\n",
    "import astropy.units as u\n",
    "from astropy.time import Time\n",
    "from astropy.coordinates import SkyCoord, EarthLocation, AltAz\n",
    "ms=pd.read_csv('messier_objects.csv', low_memory=False)\n",
    "ident = np.array(ms['ID (for resolver)'])\n",
    "name = np.array(ms['Common Name'])"
   ]
  },
  {
   "cell_type": "markdown",
   "metadata": {},
   "source": [
    "## Search object"
   ]
  },
  {
   "cell_type": "code",
   "execution_count": 40,
   "metadata": {},
   "outputs": [
    {
     "name": "stdin",
     "output_type": "stream",
     "text": [
      "Name of Object --  m1\n"
     ]
    },
    {
     "name": "stdout",
     "output_type": "stream",
     "text": [
      "M 1 83.63308 22.0145\n"
     ]
    }
   ],
   "source": [
    "while True:\n",
    "    inp = input('Name of Object -- ',)\n",
    "    inp2 = inp.split()\n",
    "\n",
    "\n",
    "    if all([x.isalpha() for x in inp2]):\n",
    "        inp = inp.title()\n",
    "        find_res = np.array([x.find(inp) for x in name])\n",
    "        pos = np.where(find_res!=-1)[0]\n",
    "        if len(pos)==0:\n",
    "            print('No such object. Try again.')\n",
    "            continue\n",
    "        ra, dec = ms['RAJ2000'][pos].values, ms['DEJ2000'][pos].values\n",
    "        if len(name[pos])>1:\n",
    "            print('Multiple matches found. Try again.')\n",
    "            continue\n",
    "        else:\n",
    "            print(name[pos][0],ra[0],dec[0])\n",
    "            obj=ident[pos][0]\n",
    "        break\n",
    "    \n",
    "    elif all([x.isalnum() for x in inp2]): \n",
    "        inp = inp.title()\n",
    "        inp = re.split('(\\d+)',inp)\n",
    "        inp[0] = inp[0].rstrip()\n",
    "        inp = inp[:2]\n",
    "        inp = ' '.join(inp)\n",
    "        find_res = np.array([x.find(inp) for x in ident])\n",
    "        pos = np.where(find_res!=-1)[0]\n",
    "        if len(pos)==0:\n",
    "            print('No such object. Try again.')\n",
    "            continue\n",
    "        ra, dec = ms['RAJ2000'][pos].values, ms['DEJ2000'][pos].values\n",
    "        print(ident[pos][0],ra[0],dec[0])\n",
    "        obj=ident[pos][0]\n",
    "        break\n",
    "        \n",
    "    else:\n",
    "        print('No such object. Try again.')\n",
    "# obj"
   ]
  },
  {
   "cell_type": "markdown",
   "metadata": {},
   "source": [
    "## Enter location on earth"
   ]
  },
  {
   "cell_type": "code",
   "execution_count": 41,
   "metadata": {},
   "outputs": [
    {
     "name": "stdin",
     "output_type": "stream",
     "text": [
      "Enter latitude and longitude: 17.3850 78.4867\n"
     ]
    },
    {
     "name": "stdout",
     "output_type": "stream",
     "text": [
      "17.385  deg lat,  78.4867  deg lon\n"
     ]
    }
   ],
   "source": [
    "while True:\n",
    "    location = input(\"Enter latitude and longitude:\")\n",
    "    # format in decimal degrees with - for south and west; \n",
    "    # example: -42.75 +24.5 indicates 42.75 degrees S and 24.5 degrees E\n",
    "    lis = location.split()\n",
    "    if not len(lis) == 2:\n",
    "        print(\"Enter location again\")\n",
    "        continue\n",
    "    else:\n",
    "        try:\n",
    "            x = float(lis[0])\n",
    "            y = float(lis[1])\n",
    "            if -90<x<90 and -180<y<180:\n",
    "                lati = x\n",
    "                long = y\n",
    "                print(x,' deg lat, ',y,' deg lon')\n",
    "                break\n",
    "            else:\n",
    "                print(\"Enter location again\")\n",
    "                continue\n",
    "        except:\n",
    "            print(\"Enter location again\")\n",
    "            continue\n",
    "# variables are \n",
    "# lati\n",
    "# long"
   ]
  },
  {
   "cell_type": "markdown",
   "metadata": {},
   "source": [
    "## Enter time of observation"
   ]
  },
  {
   "cell_type": "code",
   "execution_count": 30,
   "metadata": {},
   "outputs": [
    {
     "name": "stdin",
     "output_type": "stream",
     "text": [
      "Enter time as hhmm: 2117\n"
     ]
    },
    {
     "name": "stdout",
     "output_type": "stream",
     "text": [
      "21 h  17 m\n"
     ]
    }
   ],
   "source": [
    "while True:\n",
    "    timexx = input(\"Enter time as hhmm:\")\n",
    "    # time in IST \n",
    "    timexx = str(timexx)\n",
    "    if len(timexx) == 4:\n",
    "        try:\n",
    "            h = int(timexx[:2])\n",
    "            m = int(timexx[-2:])\n",
    "            if 0<=h<=23 and 0<=m<=59:\n",
    "                hour = h\n",
    "                minute = m\n",
    "                print(hour,'h ',minute,'m')\n",
    "                break\n",
    "        except:\n",
    "            print(\"Enter time again\")\n",
    "            continue\n",
    "    else:\n",
    "        print(\"Enter time again\")\n",
    "        continue\n",
    "# variables are\n",
    "# hour\n",
    "# minute"
   ]
  },
  {
   "cell_type": "markdown",
   "metadata": {},
   "source": [
    "## Enter date"
   ]
  },
  {
   "cell_type": "code",
   "execution_count": 31,
   "metadata": {},
   "outputs": [
    {
     "name": "stdin",
     "output_type": "stream",
     "text": [
      "Enter data as yyyy-mm-dd: \n"
     ]
    },
    {
     "name": "stdout",
     "output_type": "stream",
     "text": [
      "Enter date again\n"
     ]
    },
    {
     "name": "stdin",
     "output_type": "stream",
     "text": [
      "Enter data as yyyy-mm-dd: 2020-07-\n"
     ]
    },
    {
     "name": "stdout",
     "output_type": "stream",
     "text": [
      "Enter date again\n"
     ]
    },
    {
     "name": "stdin",
     "output_type": "stream",
     "text": [
      "Enter data as yyyy-mm-dd: 2020-07-27\n"
     ]
    },
    {
     "name": "stdout",
     "output_type": "stream",
     "text": [
      "2020-07-27\n"
     ]
    }
   ],
   "source": [
    "while True:\n",
    "    datexx = input(\"Enter data as yyyy-mm-dd:\")\n",
    "#     datexx = datexx.split('-')\n",
    "    if re.match(\"([12]\\d{3}-(0[1-9]|1[0-2])-(0[1-9]|[12]\\d|3[01]))\", datexx):\n",
    "        datex = datexx\n",
    "        print(datex)\n",
    "        break\n",
    "    else:\n",
    "        print(\"Enter date again\")\n",
    "        continue\n",
    "# variable is datex"
   ]
  },
  {
   "cell_type": "code",
   "execution_count": 37,
   "metadata": {},
   "outputs": [
    {
     "name": "stdout",
     "output_type": "stream",
     "text": [
      "Altitude/Azimuth = -50.485 deg / 355.75 deg\n",
      "Date = 2020-07-27\n",
      "Time = 21:17\n",
      "Location = 17.385 deg lat, 78.4867 deg lon \n",
      "Object: M 1\n"
     ]
    }
   ],
   "source": [
    "loc = EarthLocation(lat=lati*u.deg, lon=long*u.deg) \n",
    "utcoffset = 5.5*u.hour  # IST\n",
    "time = Time('{} {}:{}:00'.format(datex, hour, minute)) - utcoffset\n",
    "obj_coord = SkyCoord.from_name(obj)\n",
    "objaltaz = obj_coord.transform_to(AltAz(obstime=time,location=loc))\n",
    "\n",
    "print(\"Altitude/Azimuth = {0.alt:.5} / {1.az:.5}\\nDate = {2}\\nTime = {3}:{4}\\nLocation = {5} deg lat, {6} deg lon \\nObject: {7}\".format(objaltaz,objaltaz,datex,hour,minute,lati,long,obj))"
   ]
  },
  {
   "cell_type": "code",
   "execution_count": 38,
   "metadata": {},
   "outputs": [
    {
     "name": "stdout",
     "output_type": "stream",
     "text": [
      "M 1 not in sky\n"
     ]
    }
   ],
   "source": [
    "al='{0.alt:.5}'.format(objaltaz)\n",
    "az='{0.az:.5}'.format(objaltaz)\n",
    "al=float(al.split(' ')[0])\n",
    "az=float(az.split(' ')[0])\n",
    "\n",
    "if al>0: # altitude is positive\n",
    "    print(\"{} in sky\".format(obj))\n",
    "else: # altitude is negative\n",
    "    print(\"{} not in sky\".format(obj))"
   ]
  },
  {
   "cell_type": "code",
   "execution_count": null,
   "metadata": {},
   "outputs": [],
   "source": []
  }
 ],
 "metadata": {
  "kernelspec": {
   "display_name": "Star-Hopping",
   "language": "python",
   "name": "star-hopping"
  },
  "language_info": {
   "codemirror_mode": {
    "name": "ipython",
    "version": 3
   },
   "file_extension": ".py",
   "mimetype": "text/x-python",
   "name": "python",
   "nbconvert_exporter": "python",
   "pygments_lexer": "ipython3",
   "version": "3.7.6"
  }
 },
 "nbformat": 4,
 "nbformat_minor": 4
}
